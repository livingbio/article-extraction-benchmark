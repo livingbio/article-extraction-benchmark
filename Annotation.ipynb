{
 "cells": [
  {
   "cell_type": "markdown",
   "id": "8637d11a",
   "metadata": {},
   "source": [
    "# Create Benchmark Dataset"
   ]
  },
  {
   "cell_type": "markdown",
   "id": "95e993fa",
   "metadata": {},
   "source": [
    "* need to download below package"
   ]
  },
  {
   "cell_type": "code",
   "execution_count": null,
   "id": "dd4037b7",
   "metadata": {},
   "outputs": [],
   "source": [
    "!pip install html2text\n",
    "!pip install newspaper"
   ]
  },
  {
   "cell_type": "markdown",
   "id": "eb89201f",
   "metadata": {},
   "source": [
    "---"
   ]
  },
  {
   "cell_type": "code",
   "execution_count": 59,
   "id": "eb2b862e",
   "metadata": {},
   "outputs": [],
   "source": [
    "import requests\n",
    "import json\n",
    "import html2text\n",
    "import random\n",
    "from newspaper import Article"
   ]
  },
  {
   "cell_type": "markdown",
   "id": "ea558ec4",
   "metadata": {},
   "source": [
    "## function"
   ]
  },
  {
   "cell_type": "code",
   "execution_count": 60,
   "id": "9724ac66",
   "metadata": {},
   "outputs": [],
   "source": [
    "# crawl by our parser\n",
    "def get_content(url):\n",
    "    api = \"https://gparsed-admin.gliaoffice.com/parsed/api/parse?url=\"\n",
    "    json_file = requests.get(api + url).json()\n",
    "    return json_file['parsed_content']['content']"
   ]
  },
  {
   "cell_type": "code",
   "execution_count": 61,
   "id": "835a8f61",
   "metadata": {},
   "outputs": [],
   "source": [
    "# crawl by newspaper\n",
    "def newspaper(url):\n",
    "    article = Article(url)\n",
    "    article.download()\n",
    "    article.parse()\n",
    "    return article.text"
   ]
  },
  {
   "cell_type": "code",
   "execution_count": 62,
   "id": "7c4bbc28",
   "metadata": {},
   "outputs": [],
   "source": [
    "# filter image text e.g. ![](https://thehill.com/sites/default/files/styles/thumb_100/public/noemkristi_030217gn.jpg?itok=UMIpgu97)\n",
    "def filter_content(text):\n",
    "    t = text\n",
    "    while t.find('![') != -1:\n",
    "        start = t.find('![')\n",
    "        step = 1\n",
    "        stack = 0\n",
    "        while t[start + step: start + step + 5] != '(http':\n",
    "            step = step + 1\n",
    "        stack = stack + 1\n",
    "\n",
    "\n",
    "        while stack != 0:\n",
    "            step += 1\n",
    "            if t[start + step] == '(':\n",
    "                stack = stack + 1\n",
    "            elif t[start + step] == ')':\n",
    "                stack = stack - 1 \n",
    "        end = start + step\n",
    "        t = t[:start] + t[end+1:]\n",
    "    return t"
   ]
  },
  {
   "cell_type": "markdown",
   "id": "5c168cd3",
   "metadata": {},
   "source": [
    "## output json dict\n"
   ]
  },
  {
   "cell_type": "code",
   "execution_count": 63,
   "id": "4de39749",
   "metadata": {},
   "outputs": [],
   "source": [
    "json_dict = {}"
   ]
  },
  {
   "cell_type": "markdown",
   "id": "3297509c",
   "metadata": {},
   "source": [
    "之前已經存過檔了，跑下面這個。第一次做的話跳到下一個cell"
   ]
  },
  {
   "cell_type": "code",
   "execution_count": null,
   "id": "e10f5af2",
   "metadata": {},
   "outputs": [],
   "source": [
    "your_file_path = \"\"\n",
    "with open(ypur_file_path, 'r') as in_file:\n",
    "    json_dict = json.load(in_file)"
   ]
  },
  {
   "cell_type": "code",
   "execution_count": 64,
   "id": "9fa4625f",
   "metadata": {},
   "outputs": [],
   "source": [
    "template = {\"articleBody\": \"\", \"url\": \"\"}"
   ]
  },
  {
   "cell_type": "markdown",
   "id": "65a2f6a5",
   "metadata": {},
   "source": [
    "## 流程\n",
    "1. 將url貼上來\n",
    "    * 連結在`./url.txt`，皆為測試過的有效連結\n",
    "    * 如果連結還是有問題，可以到https://github.com/livingbio/gparsed/tree/master/src/parsers/test_parsers/test_cases ，每一個資料夾裡面找一個.item檔，立面有網頁連結\n",
    "    * 有16個資料夾裡連結都失效，有在`url.txt`中註記\n",
    "2. 執行gparser和newspapers\n",
    "3. 比對這兩個的原文的結果\n",
    "    * 選爬到完整或是超過內文的結果再去進行刪減比較快\n",
    "    * 刪減的時候將print(repr())的結果複製下來到文字編輯器中進行刪減比較快\n",
    "    * 換行符號、標點符號錯誤不需理會\n",
    "    * 內文的定義可以查看https://paper.dropbox.com/doc/Benchmark-A.I.-Parser--BWBUq0_rFdVI8Lj3a_rFoq~5Ag-UPbZxMrxYm4XWR452HaTq\n",
    "    * 範例輸出：https://github.com/livingbio/article-extraction-benchmark/blob/master/ground-truth.json\n",
    "    * 不確定可以跟我討論\n",
    "4. 產生key值\n",
    "5. 將處理好的結果放進template['articleBody'], url放入template['url']\n",
    "6. 將template放入json_dict[key]\n",
    "7. back to 1 until you tried\n",
    "\n",
    "8. 存檔"
   ]
  },
  {
   "cell_type": "code",
   "execution_count": 78,
   "id": "a1a789fc",
   "metadata": {},
   "outputs": [],
   "source": [
    "# url to crawl\n",
    "url = \"https://www.newsobserver.com/news/local/education/article223385845.html\""
   ]
  },
  {
   "cell_type": "markdown",
   "id": "d049b580",
   "metadata": {},
   "source": [
    "## 有些網站gparser不能爬，會出現`JSONDecodeError: Expecting value: line 1 column 1 (char 0)`。遇到的時候就直接用newspaper就好。如果gparser和newspaper都failed在跟我說。"
   ]
  },
  {
   "cell_type": "code",
   "execution_count": 79,
   "id": "727f65f2",
   "metadata": {},
   "outputs": [
    {
     "ename": "JSONDecodeError",
     "evalue": "Expecting value: line 1 column 1 (char 0)",
     "output_type": "error",
     "traceback": [
      "\u001b[0;31m-------------------------------------------------\u001b[0m",
      "\u001b[0;31mJSONDecodeError\u001b[0m Traceback (most recent call last)",
      "\u001b[0;32m<ipython-input-79-da64015c6d1d>\u001b[0m in \u001b[0;36m<module>\u001b[0;34m\u001b[0m\n\u001b[0;32m----> 1\u001b[0;31m \u001b[0mgparser\u001b[0m \u001b[0;34m=\u001b[0m \u001b[0mget_content\u001b[0m\u001b[0;34m(\u001b[0m\u001b[0murl\u001b[0m\u001b[0;34m)\u001b[0m\u001b[0;34m\u001b[0m\u001b[0;34m\u001b[0m\u001b[0m\n\u001b[0m\u001b[1;32m      2\u001b[0m \u001b[0mtext\u001b[0m \u001b[0;34m=\u001b[0m \u001b[0mhtml2text\u001b[0m\u001b[0;34m.\u001b[0m\u001b[0mhtml2text\u001b[0m\u001b[0;34m(\u001b[0m\u001b[0mgparser\u001b[0m\u001b[0;34m)\u001b[0m\u001b[0;34m\u001b[0m\u001b[0;34m\u001b[0m\u001b[0m\n",
      "\u001b[0;32m<ipython-input-60-a9295bc66e1c>\u001b[0m in \u001b[0;36mget_content\u001b[0;34m(url)\u001b[0m\n\u001b[1;32m      2\u001b[0m \u001b[0;32mdef\u001b[0m \u001b[0mget_content\u001b[0m\u001b[0;34m(\u001b[0m\u001b[0murl\u001b[0m\u001b[0;34m)\u001b[0m\u001b[0;34m:\u001b[0m\u001b[0;34m\u001b[0m\u001b[0;34m\u001b[0m\u001b[0m\n\u001b[1;32m      3\u001b[0m     \u001b[0mapi\u001b[0m \u001b[0;34m=\u001b[0m \u001b[0;34m\"https://gparsed-admin.gliaoffice.com/parsed/api/parse?url=\"\u001b[0m\u001b[0;34m\u001b[0m\u001b[0;34m\u001b[0m\u001b[0m\n\u001b[0;32m----> 4\u001b[0;31m     \u001b[0mjson_file\u001b[0m \u001b[0;34m=\u001b[0m \u001b[0mrequests\u001b[0m\u001b[0;34m.\u001b[0m\u001b[0mget\u001b[0m\u001b[0;34m(\u001b[0m\u001b[0mapi\u001b[0m \u001b[0;34m+\u001b[0m \u001b[0murl\u001b[0m\u001b[0;34m)\u001b[0m\u001b[0;34m.\u001b[0m\u001b[0mjson\u001b[0m\u001b[0;34m(\u001b[0m\u001b[0;34m)\u001b[0m\u001b[0;34m\u001b[0m\u001b[0;34m\u001b[0m\u001b[0m\n\u001b[0m\u001b[1;32m      5\u001b[0m     \u001b[0;32mreturn\u001b[0m \u001b[0mjson_file\u001b[0m\u001b[0;34m[\u001b[0m\u001b[0;34m'parsed_content'\u001b[0m\u001b[0;34m]\u001b[0m\u001b[0;34m[\u001b[0m\u001b[0;34m'content'\u001b[0m\u001b[0;34m]\u001b[0m\u001b[0;34m\u001b[0m\u001b[0;34m\u001b[0m\u001b[0m\n",
      "\u001b[0;32m~/opt/anaconda3/lib/python3.7/site-packages/requests/models.py\u001b[0m in \u001b[0;36mjson\u001b[0;34m(self, **kwargs)\u001b[0m\n\u001b[1;32m    898\u001b[0m                     \u001b[0;31m# used.\u001b[0m\u001b[0;34m\u001b[0m\u001b[0;34m\u001b[0m\u001b[0;34m\u001b[0m\u001b[0m\n\u001b[1;32m    899\u001b[0m                     \u001b[0;32mpass\u001b[0m\u001b[0;34m\u001b[0m\u001b[0;34m\u001b[0m\u001b[0m\n\u001b[0;32m--> 900\u001b[0;31m         \u001b[0;32mreturn\u001b[0m \u001b[0mcomplexjson\u001b[0m\u001b[0;34m.\u001b[0m\u001b[0mloads\u001b[0m\u001b[0;34m(\u001b[0m\u001b[0mself\u001b[0m\u001b[0;34m.\u001b[0m\u001b[0mtext\u001b[0m\u001b[0;34m,\u001b[0m \u001b[0;34m**\u001b[0m\u001b[0mkwargs\u001b[0m\u001b[0;34m)\u001b[0m\u001b[0;34m\u001b[0m\u001b[0;34m\u001b[0m\u001b[0m\n\u001b[0m\u001b[1;32m    901\u001b[0m \u001b[0;34m\u001b[0m\u001b[0m\n\u001b[1;32m    902\u001b[0m     \u001b[0;34m@\u001b[0m\u001b[0mproperty\u001b[0m\u001b[0;34m\u001b[0m\u001b[0;34m\u001b[0m\u001b[0m\n",
      "\u001b[0;32m~/opt/anaconda3/lib/python3.7/json/__init__.py\u001b[0m in \u001b[0;36mloads\u001b[0;34m(s, encoding, cls, object_hook, parse_float, parse_int, parse_constant, object_pairs_hook, **kw)\u001b[0m\n\u001b[1;32m    346\u001b[0m             \u001b[0mparse_int\u001b[0m \u001b[0;32mis\u001b[0m \u001b[0;32mNone\u001b[0m \u001b[0;32mand\u001b[0m \u001b[0mparse_float\u001b[0m \u001b[0;32mis\u001b[0m \u001b[0;32mNone\u001b[0m \u001b[0;32mand\u001b[0m\u001b[0;34m\u001b[0m\u001b[0;34m\u001b[0m\u001b[0m\n\u001b[1;32m    347\u001b[0m             parse_constant is None and object_pairs_hook is None and not kw):\n\u001b[0;32m--> 348\u001b[0;31m         \u001b[0;32mreturn\u001b[0m \u001b[0m_default_decoder\u001b[0m\u001b[0;34m.\u001b[0m\u001b[0mdecode\u001b[0m\u001b[0;34m(\u001b[0m\u001b[0ms\u001b[0m\u001b[0;34m)\u001b[0m\u001b[0;34m\u001b[0m\u001b[0;34m\u001b[0m\u001b[0m\n\u001b[0m\u001b[1;32m    349\u001b[0m     \u001b[0;32mif\u001b[0m \u001b[0mcls\u001b[0m \u001b[0;32mis\u001b[0m \u001b[0;32mNone\u001b[0m\u001b[0;34m:\u001b[0m\u001b[0;34m\u001b[0m\u001b[0;34m\u001b[0m\u001b[0m\n\u001b[1;32m    350\u001b[0m         \u001b[0mcls\u001b[0m \u001b[0;34m=\u001b[0m \u001b[0mJSONDecoder\u001b[0m\u001b[0;34m\u001b[0m\u001b[0;34m\u001b[0m\u001b[0m\n",
      "\u001b[0;32m~/opt/anaconda3/lib/python3.7/json/decoder.py\u001b[0m in \u001b[0;36mdecode\u001b[0;34m(self, s, _w)\u001b[0m\n\u001b[1;32m    335\u001b[0m \u001b[0;34m\u001b[0m\u001b[0m\n\u001b[1;32m    336\u001b[0m         \"\"\"\n\u001b[0;32m--> 337\u001b[0;31m         \u001b[0mobj\u001b[0m\u001b[0;34m,\u001b[0m \u001b[0mend\u001b[0m \u001b[0;34m=\u001b[0m \u001b[0mself\u001b[0m\u001b[0;34m.\u001b[0m\u001b[0mraw_decode\u001b[0m\u001b[0;34m(\u001b[0m\u001b[0ms\u001b[0m\u001b[0;34m,\u001b[0m \u001b[0midx\u001b[0m\u001b[0;34m=\u001b[0m\u001b[0m_w\u001b[0m\u001b[0;34m(\u001b[0m\u001b[0ms\u001b[0m\u001b[0;34m,\u001b[0m \u001b[0;36m0\u001b[0m\u001b[0;34m)\u001b[0m\u001b[0;34m.\u001b[0m\u001b[0mend\u001b[0m\u001b[0;34m(\u001b[0m\u001b[0;34m)\u001b[0m\u001b[0;34m)\u001b[0m\u001b[0;34m\u001b[0m\u001b[0;34m\u001b[0m\u001b[0m\n\u001b[0m\u001b[1;32m    338\u001b[0m         \u001b[0mend\u001b[0m \u001b[0;34m=\u001b[0m \u001b[0m_w\u001b[0m\u001b[0;34m(\u001b[0m\u001b[0ms\u001b[0m\u001b[0;34m,\u001b[0m \u001b[0mend\u001b[0m\u001b[0;34m)\u001b[0m\u001b[0;34m.\u001b[0m\u001b[0mend\u001b[0m\u001b[0;34m(\u001b[0m\u001b[0;34m)\u001b[0m\u001b[0;34m\u001b[0m\u001b[0;34m\u001b[0m\u001b[0m\n\u001b[1;32m    339\u001b[0m         \u001b[0;32mif\u001b[0m \u001b[0mend\u001b[0m \u001b[0;34m!=\u001b[0m \u001b[0mlen\u001b[0m\u001b[0;34m(\u001b[0m\u001b[0ms\u001b[0m\u001b[0;34m)\u001b[0m\u001b[0;34m:\u001b[0m\u001b[0;34m\u001b[0m\u001b[0;34m\u001b[0m\u001b[0m\n",
      "\u001b[0;32m~/opt/anaconda3/lib/python3.7/json/decoder.py\u001b[0m in \u001b[0;36mraw_decode\u001b[0;34m(self, s, idx)\u001b[0m\n\u001b[1;32m    353\u001b[0m             \u001b[0mobj\u001b[0m\u001b[0;34m,\u001b[0m \u001b[0mend\u001b[0m \u001b[0;34m=\u001b[0m \u001b[0mself\u001b[0m\u001b[0;34m.\u001b[0m\u001b[0mscan_once\u001b[0m\u001b[0;34m(\u001b[0m\u001b[0ms\u001b[0m\u001b[0;34m,\u001b[0m \u001b[0midx\u001b[0m\u001b[0;34m)\u001b[0m\u001b[0;34m\u001b[0m\u001b[0;34m\u001b[0m\u001b[0m\n\u001b[1;32m    354\u001b[0m         \u001b[0;32mexcept\u001b[0m \u001b[0mStopIteration\u001b[0m \u001b[0;32mas\u001b[0m \u001b[0merr\u001b[0m\u001b[0;34m:\u001b[0m\u001b[0;34m\u001b[0m\u001b[0;34m\u001b[0m\u001b[0m\n\u001b[0;32m--> 355\u001b[0;31m             \u001b[0;32mraise\u001b[0m \u001b[0mJSONDecodeError\u001b[0m\u001b[0;34m(\u001b[0m\u001b[0;34m\"Expecting value\"\u001b[0m\u001b[0;34m,\u001b[0m \u001b[0ms\u001b[0m\u001b[0;34m,\u001b[0m \u001b[0merr\u001b[0m\u001b[0;34m.\u001b[0m\u001b[0mvalue\u001b[0m\u001b[0;34m)\u001b[0m \u001b[0;32mfrom\u001b[0m \u001b[0;32mNone\u001b[0m\u001b[0;34m\u001b[0m\u001b[0;34m\u001b[0m\u001b[0m\n\u001b[0m\u001b[1;32m    356\u001b[0m         \u001b[0;32mreturn\u001b[0m \u001b[0mobj\u001b[0m\u001b[0;34m,\u001b[0m \u001b[0mend\u001b[0m\u001b[0;34m\u001b[0m\u001b[0;34m\u001b[0m\u001b[0m\n",
      "\u001b[0;31mJSONDecodeError\u001b[0m: Expecting value: line 1 column 1 (char 0)"
     ]
    }
   ],
   "source": [
    "gparser = get_content(url)\n",
    "text = html2text.html2text(gparser)"
   ]
  },
  {
   "cell_type": "code",
   "execution_count": 57,
   "id": "3cf01edd",
   "metadata": {},
   "outputs": [],
   "source": [
    "# 可以過濾掉圖片連結\n",
    "text = filter_content(text)"
   ]
  },
  {
   "cell_type": "code",
   "execution_count": 58,
   "id": "98f57414",
   "metadata": {},
   "outputs": [
    {
     "name": "stdout",
     "output_type": "stream",
     "text": [
      "\"\\n\\nSouth Dakota official says meeting with Noem had no effect on daughter's\\napplicationSouth Dakota GOP lawmakers summon two employees for Noem\\ninquiryRepublicans' mantra should have been 'Stop the Spread'MORE (R) is\\ndefending the state’s launch of an anti-drug campaign with the slogan “Meth,\\nwe’re on it.”\\n\\nThe tagline drew a mix of criticism and ridicule across Twitter on Monday, but\\nNoem cited the backlash as proof that efforts to raise awareness around South\\nDakota's methamphetamine crisis was, in fact, working.\\n\\n“Meth is IN SD. Twitter can make a joke of it, but when it comes down to it -\\nMeth is a serious problem in SD. We are here to Get. It. OUT,” Noem tweeted\\nMonday night.\\n\\nADVERTISEMENT\\n\\nNoem later tweeted that the state’s meth epidemic “needs to be a dinner table\\nconversation,” adding “we need everyone on it.”\\n\\nThe campaign, which includes both digital and TV ads, cost the state roughly\\n$449,000, according to the Sioux Falls Argus Leader.\\n\\nOne campaign video featured a series of South Dakotans — including both adults\\nand children — declaring, “I’m on meth.” The video, as well as photos of\\npeople with the tagline, prompted some Twitter users to argue that the\\npromotional material made it look as if those featured in the campaign were on\\nthe drug themselves.\\n\\n“South Dakota: if we were any higher, we’d be North Dakota,” one user quipped.\\n\\nAnother wondered why the state bothered to trademark the tagline in the first\\nplace.\\n\\nThe latest initiative comes as the state struggles to address its growing rate\\nof methamphetamine use in recent years, particularly among its youth.\\n\\nADVERTISEMENT\\n\\nIn 2016, the South Dakota's Department of Social Services reported that the\\nnumber of young people in the state who have reported using meth was 3.8\\npercent, compared to the national average of 3 percent.\\n\\nThe National Institute on Drug Abuse has also estimated that 964,000 people\\nage 12 and older, which account for about 0.4 percent of the total U.S.\\npopulation, reported a methamphetamine use disorder in 2017, marking a\\nsignificant increase from the previous year.\\n\\nThe governor's office didn't immediately respond to The Hill's request for\\ncomment.\\n\\n\"\n"
     ]
    }
   ],
   "source": [
    "print(repr(text))"
   ]
  },
  {
   "cell_type": "code",
   "execution_count": 80,
   "id": "df59716f",
   "metadata": {},
   "outputs": [
    {
     "ename": "ArticleException",
     "evalue": "Article `download()` failed with HTTPSConnectionPool(host='www.newsobserver.com', port=443): Read timed out. (read timeout=7) on URL https://www.newsobserver.com/news/local/education/article223385845.html",
     "output_type": "error",
     "traceback": [
      "\u001b[0;31m-------------------------------------------------\u001b[0m",
      "\u001b[0;31mArticleException\u001b[0mTraceback (most recent call last)",
      "\u001b[0;32m<ipython-input-80-c9ba281744c2>\u001b[0m in \u001b[0;36m<module>\u001b[0;34m\u001b[0m\n\u001b[0;32m----> 1\u001b[0;31m \u001b[0mnews\u001b[0m \u001b[0;34m=\u001b[0m \u001b[0mnewspaper\u001b[0m\u001b[0;34m(\u001b[0m\u001b[0murl\u001b[0m\u001b[0;34m)\u001b[0m\u001b[0;34m\u001b[0m\u001b[0;34m\u001b[0m\u001b[0m\n\u001b[0m",
      "\u001b[0;32m<ipython-input-61-3c2c7a8ae329>\u001b[0m in \u001b[0;36mnewspaper\u001b[0;34m(url)\u001b[0m\n\u001b[1;32m      3\u001b[0m     \u001b[0marticle\u001b[0m \u001b[0;34m=\u001b[0m \u001b[0mArticle\u001b[0m\u001b[0;34m(\u001b[0m\u001b[0murl\u001b[0m\u001b[0;34m)\u001b[0m\u001b[0;34m\u001b[0m\u001b[0;34m\u001b[0m\u001b[0m\n\u001b[1;32m      4\u001b[0m     \u001b[0marticle\u001b[0m\u001b[0;34m.\u001b[0m\u001b[0mdownload\u001b[0m\u001b[0;34m(\u001b[0m\u001b[0;34m)\u001b[0m\u001b[0;34m\u001b[0m\u001b[0;34m\u001b[0m\u001b[0m\n\u001b[0;32m----> 5\u001b[0;31m     \u001b[0marticle\u001b[0m\u001b[0;34m.\u001b[0m\u001b[0mparse\u001b[0m\u001b[0;34m(\u001b[0m\u001b[0;34m)\u001b[0m\u001b[0;34m\u001b[0m\u001b[0;34m\u001b[0m\u001b[0m\n\u001b[0m\u001b[1;32m      6\u001b[0m     \u001b[0;32mreturn\u001b[0m \u001b[0marticle\u001b[0m\u001b[0;34m.\u001b[0m\u001b[0mtext\u001b[0m\u001b[0;34m\u001b[0m\u001b[0;34m\u001b[0m\u001b[0m\n",
      "\u001b[0;32m~/opt/anaconda3/lib/python3.7/site-packages/newspaper/article.py\u001b[0m in \u001b[0;36mparse\u001b[0;34m(self)\u001b[0m\n\u001b[1;32m    189\u001b[0m \u001b[0;34m\u001b[0m\u001b[0m\n\u001b[1;32m    190\u001b[0m     \u001b[0;32mdef\u001b[0m \u001b[0mparse\u001b[0m\u001b[0;34m(\u001b[0m\u001b[0mself\u001b[0m\u001b[0;34m)\u001b[0m\u001b[0;34m:\u001b[0m\u001b[0;34m\u001b[0m\u001b[0;34m\u001b[0m\u001b[0m\n\u001b[0;32m--> 191\u001b[0;31m         \u001b[0mself\u001b[0m\u001b[0;34m.\u001b[0m\u001b[0mthrow_if_not_downloaded_verbose\u001b[0m\u001b[0;34m(\u001b[0m\u001b[0;34m)\u001b[0m\u001b[0;34m\u001b[0m\u001b[0;34m\u001b[0m\u001b[0m\n\u001b[0m\u001b[1;32m    192\u001b[0m \u001b[0;34m\u001b[0m\u001b[0m\n\u001b[1;32m    193\u001b[0m         \u001b[0mself\u001b[0m\u001b[0;34m.\u001b[0m\u001b[0mdoc\u001b[0m \u001b[0;34m=\u001b[0m \u001b[0mself\u001b[0m\u001b[0;34m.\u001b[0m\u001b[0mconfig\u001b[0m\u001b[0;34m.\u001b[0m\u001b[0mget_parser\u001b[0m\u001b[0;34m(\u001b[0m\u001b[0;34m)\u001b[0m\u001b[0;34m.\u001b[0m\u001b[0mfromstring\u001b[0m\u001b[0;34m(\u001b[0m\u001b[0mself\u001b[0m\u001b[0;34m.\u001b[0m\u001b[0mhtml\u001b[0m\u001b[0;34m)\u001b[0m\u001b[0;34m\u001b[0m\u001b[0;34m\u001b[0m\u001b[0m\n",
      "\u001b[0;32m~/opt/anaconda3/lib/python3.7/site-packages/newspaper/article.py\u001b[0m in \u001b[0;36mthrow_if_not_downloaded_verbose\u001b[0;34m(self)\u001b[0m\n\u001b[1;32m    530\u001b[0m         \u001b[0;32melif\u001b[0m \u001b[0mself\u001b[0m\u001b[0;34m.\u001b[0m\u001b[0mdownload_state\u001b[0m \u001b[0;34m==\u001b[0m \u001b[0mArticleDownloadState\u001b[0m\u001b[0;34m.\u001b[0m\u001b[0mFAILED_RESPONSE\u001b[0m\u001b[0;34m:\u001b[0m\u001b[0;34m\u001b[0m\u001b[0;34m\u001b[0m\u001b[0m\n\u001b[1;32m    531\u001b[0m             raise ArticleException('Article `download()` failed with %s on URL %s' %\n\u001b[0;32m--> 532\u001b[0;31m                   (self.download_exception_msg, self.url))\n\u001b[0m\u001b[1;32m    533\u001b[0m \u001b[0;34m\u001b[0m\u001b[0m\n\u001b[1;32m    534\u001b[0m     \u001b[0;32mdef\u001b[0m \u001b[0mthrow_if_not_parsed_verbose\u001b[0m\u001b[0;34m(\u001b[0m\u001b[0mself\u001b[0m\u001b[0;34m)\u001b[0m\u001b[0;34m:\u001b[0m\u001b[0;34m\u001b[0m\u001b[0;34m\u001b[0m\u001b[0m\n",
      "\u001b[0;31mArticleException\u001b[0m: Article `download()` failed with HTTPSConnectionPool(host='www.newsobserver.com', port=443): Read timed out. (read timeout=7) on URL https://www.newsobserver.com/news/local/education/article223385845.html"
     ]
    }
   ],
   "source": [
    "news = newspaper(url)"
   ]
  },
  {
   "cell_type": "code",
   "execution_count": 68,
   "id": "a3164fd0",
   "metadata": {
    "scrolled": true
   },
   "outputs": [
    {
     "name": "stdout",
     "output_type": "stream",
     "text": [
      "'An Indiana toddler had a fatal fall from a Royal Caribbean cruise ship after her grandfather put her up on a railing, thinking the glass window was closed, according to the family\\'s attorney.\\n\\nChloe Wiegand, who was 18 months old, was traveling with her grandparents and parents on the Royal Caribbean Freedom of the Seas when she fell to her death on Sunday, according to her parent\\'s attorney, Michael Winkleman.\\n\\nChloe was with her grandfather in the children\\'s water park play area when her grandfather put her on a wood railing in front of a wall of glass windows, Winkleman said at a news conference on Tuesday.\\n\\nChloe was a hockey fan and loved to bang on the ice hockey rink glass wall as she watched her older brother, Winkleman said, and her grandfather put her on the railing thinking she\\'d bang on the glass.\\n\\nWinkleman told ABC News they are waiting to see closed circuit TV footage of the fall, and have yet to determine whether a lawsuit will be filed.\\n\\n\"The singular reason they hired me to start was to help with the truth to get out there, because there was a lot of misinformation being spread on the Internet and various sources,\" Winkleman told ABC News in an interview Tuesday night. \"But of course, my primary role as their advocate and the attorney, is to help them seek justice for what happened to Chloe.\"\\n\\n\"And if that means filing a lawsuit against them, that\\'s certainly something that is in the playbook of options,\" he added.\\n\\nHowever, the window was open -- and she was \"gone,\" Winkleman said, calling her death a \"tragic accident that was preventable.\"\\n\\n\"Why would you ever in a kids play area put windows that passengers can open?\" Winkleman said. \"I don\\'t think it\\'s unreasonable to put a child there thinking there\\'s glass.\"\\n\\nThe Wiegand family had not opened the window and do not know who opened it, Winkleman said.\\n\\nThe cruise ship was docked in San Juan, Puerto Rico, at the time, according to the Puerto Rico Department of Public Safety. The Puerto Rico prosecutor has been conducting interviews.\\n\\nChloe\\'s autopsy has been completed, and her remains were sent to a funeral home selected by the family on Tuesday.\\n\\n“The Department of Justice will continue working on the investigation of this case with the rigor it demands,\" a spokesperson for the Puerto Rico Department of Justice said in a statement.\\n\\nThe investigation into the child\\'s death is being handled by Puerto Rico Police, and the San Juan attorney general\\'s office.\\n\\nChloe was the daughter of a South Bend, Indiana, police officer, according to the department, and Chloe\\'s parents are \"beside themselves,\" Winkleman said.\\n\\n\"The South Bend Police Department offers its sincerest condolences to Officer Alan Wiegand and his family during this difficult time following the tragic loss of their child while in Puerto Rico,\" the department said in a statement. \"The department asks the community to pray for the entire Wiegand family as they grieve and to respect their privacy.\"\\n\\nSouth Bend Mayor and presidential candidate Pete Buttigieg added on Twitter, \"We are saddened by the terrible accident that took the life of Officer Wiegand\\'s young daughter, and the city is holding this family in our hearts.\"\\n\\nOwen Torres, corporate communications manager with Royal Caribbean, said in a statement: \"We are deeply saddened by yesterday\\'s tragic incident, and our hearts go out to the family. We\\'ve made our Care Team available to assist the family with any resources they need.\"\\n\\nTorres added on Tuesday, \"We are assisting local authorities in San Juan, PR, as they make inquiries.\"\\n\\nABC News\\' Joshua Hoyos and Christine Theodorou contributed to this report.'\n"
     ]
    }
   ],
   "source": [
    "print(repr(news))"
   ]
  },
  {
   "cell_type": "markdown",
   "id": "202c006b",
   "metadata": {},
   "source": [
    "## generate key"
   ]
  },
  {
   "cell_type": "code",
   "execution_count": 69,
   "id": "31ac0b81",
   "metadata": {},
   "outputs": [
    {
     "name": "stdout",
     "output_type": "stream",
     "text": [
      "zmgsjj4j8skzkcga5s3x3wz4ez2bkz3vzqri8w14j4y8sw4s5b206sq7lzolzdma\n"
     ]
    }
   ],
   "source": [
    "key = str.join('', [ random.choice('abcdefghijklmnopqrstuvwxyz0123456789') for _ in range(64) ])\n",
    "print(key)"
   ]
  },
  {
   "cell_type": "code",
   "execution_count": 73,
   "id": "6a9c279e",
   "metadata": {},
   "outputs": [],
   "source": [
    "# 放入處理好的文字 或是不需處理的話直接放變數\n",
    "ok_text = \"\"\"An Indiana toddler had a fatal fall from a Royal Caribbean cruise ship after her grandfather put her up on a railing, thinking the glass window was closed, according to the family\\'s attorney.\\n\\nChloe Wiegand, who was 18 months old, was traveling with her grandparents and parents on the Royal Caribbean Freedom of the Seas when she fell to her death on Sunday, according to her parent\\'s attorney, Michael Winkleman.\\n\\nChloe was with her grandfather in the children\\'s water park play area when her grandfather put her on a wood railing in front of a wall of glass windows, Winkleman said at a news conference on Tuesday.\\n\\nChloe was a hockey fan and loved to bang on the ice hockey rink glass wall as she watched her older brother, Winkleman said, and her grandfather put her on the railing thinking she\\'d bang on the glass.\\n\\nWinkleman told ABC News they are waiting to see closed circuit TV footage of the fall, and have yet to determine whether a lawsuit will be filed.\\n\\n\"The singular reason they hired me to start was to help with the truth to get out there, because there was a lot of misinformation being spread on the Internet and various sources,\" Winkleman told ABC News in an interview Tuesday night. \"But of course, my primary role as their advocate and the attorney, is to help them seek justice for what happened to Chloe.\"\\n\\n\"And if that means filing a lawsuit against them, that\\'s certainly something that is in the playbook of options,\" he added.\\n\\nHowever, the window was open -- and she was \"gone,\" Winkleman said, calling her death a \"tragic accident that was preventable.\"\\n\\n\"Why would you ever in a kids play area put windows that passengers can open?\" Winkleman said. \"I don\\'t think it\\'s unreasonable to put a child there thinking there\\'s glass.\"\\n\\nThe Wiegand family had not opened the window and do not know who opened it, Winkleman said.\\n\\nThe cruise ship was docked in San Juan, Puerto Rico, at the time, according to the Puerto Rico Department of Public Safety. The Puerto Rico prosecutor has been conducting interviews.\\n\\nChloe\\'s autopsy has been completed, and her remains were sent to a funeral home selected by the family on Tuesday.\\n\\n“The Department of Justice will continue working on the investigation of this case with the rigor it demands,\" a spokesperson for the Puerto Rico Department of Justice said in a statement.\\n\\nThe investigation into the child\\'s death is being handled by Puerto Rico Police, and the San Juan attorney general\\'s office.\\n\\nChloe was the daughter of a South Bend, Indiana, police officer, according to the department, and Chloe\\'s parents are \"beside themselves,\" Winkleman said.\\n\\n\"The South Bend Police Department offers its sincerest condolences to Officer Alan Wiegand and his family during this difficult time following the tragic loss of their child while in Puerto Rico,\" the department said in a statement. \"The department asks the community to pray for the entire Wiegand family as they grieve and to respect their privacy.\"\\n\\nSouth Bend Mayor and presidential candidate Pete Buttigieg added on Twitter, \"We are saddened by the terrible accident that took the life of Officer Wiegand\\'s young daughter, and the city is holding this family in our hearts.\"\\n\\nOwen Torres, corporate communications manager with Royal Caribbean, said in a statement: \"We are deeply saddened by yesterday\\'s tragic incident, and our hearts go out to the family. We\\'ve made our Care Team available to assist the family with any resources they need.\"\\n\\nTorres added on Tuesday, \"We are assisting local authorities in San Juan, PR, as they make inquiries.\"\"\""
   ]
  },
  {
   "cell_type": "code",
   "execution_count": 74,
   "id": "39c5f3bb",
   "metadata": {},
   "outputs": [],
   "source": [
    "# 存入json_dict中\n",
    "template[\"articleBody\"] =  ok_text\n",
    "template[\"url\"] = url\n",
    "if key not in json_dict:\n",
    "    json_dict[key] = template\n",
    "else:\n",
    "    print(\"key exit! Need to generate another\")"
   ]
  },
  {
   "cell_type": "code",
   "execution_count": 75,
   "id": "a0eaf8bd",
   "metadata": {},
   "outputs": [
    {
     "data": {
      "text/plain": [
       "{'zmgsjj4j8skzkcga5s3x3wz4ez2bkz3vzqri8w14j4y8sw4s5b206sq7lzolzdma': {'articleBody': 'An Indiana toddler had a fatal fall from a Royal Caribbean cruise ship after her grandfather put her up on a railing, thinking the glass window was closed, according to the family\\'s attorney.\\n\\nChloe Wiegand, who was 18 months old, was traveling with her grandparents and parents on the Royal Caribbean Freedom of the Seas when she fell to her death on Sunday, according to her parent\\'s attorney, Michael Winkleman.\\n\\nChloe was with her grandfather in the children\\'s water park play area when her grandfather put her on a wood railing in front of a wall of glass windows, Winkleman said at a news conference on Tuesday.\\n\\nChloe was a hockey fan and loved to bang on the ice hockey rink glass wall as she watched her older brother, Winkleman said, and her grandfather put her on the railing thinking she\\'d bang on the glass.\\n\\nWinkleman told ABC News they are waiting to see closed circuit TV footage of the fall, and have yet to determine whether a lawsuit will be filed.\\n\\n\"The singular reason they hired me to start was to help with the truth to get out there, because there was a lot of misinformation being spread on the Internet and various sources,\" Winkleman told ABC News in an interview Tuesday night. \"But of course, my primary role as their advocate and the attorney, is to help them seek justice for what happened to Chloe.\"\\n\\n\"And if that means filing a lawsuit against them, that\\'s certainly something that is in the playbook of options,\" he added.\\n\\nHowever, the window was open -- and she was \"gone,\" Winkleman said, calling her death a \"tragic accident that was preventable.\"\\n\\n\"Why would you ever in a kids play area put windows that passengers can open?\" Winkleman said. \"I don\\'t think it\\'s unreasonable to put a child there thinking there\\'s glass.\"\\n\\nThe Wiegand family had not opened the window and do not know who opened it, Winkleman said.\\n\\nThe cruise ship was docked in San Juan, Puerto Rico, at the time, according to the Puerto Rico Department of Public Safety. The Puerto Rico prosecutor has been conducting interviews.\\n\\nChloe\\'s autopsy has been completed, and her remains were sent to a funeral home selected by the family on Tuesday.\\n\\n“The Department of Justice will continue working on the investigation of this case with the rigor it demands,\" a spokesperson for the Puerto Rico Department of Justice said in a statement.\\n\\nThe investigation into the child\\'s death is being handled by Puerto Rico Police, and the San Juan attorney general\\'s office.\\n\\nChloe was the daughter of a South Bend, Indiana, police officer, according to the department, and Chloe\\'s parents are \"beside themselves,\" Winkleman said.\\n\\n\"The South Bend Police Department offers its sincerest condolences to Officer Alan Wiegand and his family during this difficult time following the tragic loss of their child while in Puerto Rico,\" the department said in a statement. \"The department asks the community to pray for the entire Wiegand family as they grieve and to respect their privacy.\"\\n\\nSouth Bend Mayor and presidential candidate Pete Buttigieg added on Twitter, \"We are saddened by the terrible accident that took the life of Officer Wiegand\\'s young daughter, and the city is holding this family in our hearts.\"\\n\\nOwen Torres, corporate communications manager with Royal Caribbean, said in a statement: \"We are deeply saddened by yesterday\\'s tragic incident, and our hearts go out to the family. We\\'ve made our Care Team available to assist the family with any resources they need.\"\\n\\nTorres added on Tuesday, \"We are assisting local authorities in San Juan, PR, as they make inquiries.',\n",
       "  'url': 'https://abcnews.go.com/US/indiana-toddler-died-cruise-ship-fall-grandpa-thought/story?id=64212610'}}"
      ]
     },
     "execution_count": 75,
     "metadata": {},
     "output_type": "execute_result"
    }
   ],
   "source": [
    "json_dict"
   ]
  },
  {
   "cell_type": "markdown",
   "id": "280f466f",
   "metadata": {},
   "source": [
    "## Store in json file\n",
    "* 累了要休工不做了再存進去"
   ]
  },
  {
   "cell_type": "code",
   "execution_count": 77,
   "id": "1e65ba75",
   "metadata": {},
   "outputs": [],
   "source": [
    "your_file_path = \"./our_dataset.json\"\n",
    "with open(your_file_path, 'w') as out_file:\n",
    "    json.dump(json_dict, out_file, ensure_ascii=False, indent=4)"
   ]
  },
  {
   "cell_type": "code",
   "execution_count": null,
   "id": "d17d8b9f",
   "metadata": {},
   "outputs": [],
   "source": []
  }
 ],
 "metadata": {
  "kernelspec": {
   "display_name": "Python 3",
   "language": "python",
   "name": "python3"
  },
  "language_info": {
   "codemirror_mode": {
    "name": "ipython",
    "version": 3
   },
   "file_extension": ".py",
   "mimetype": "text/x-python",
   "name": "python",
   "nbconvert_exporter": "python",
   "pygments_lexer": "ipython3",
   "version": "3.7.10"
  }
 },
 "nbformat": 4,
 "nbformat_minor": 5
}
